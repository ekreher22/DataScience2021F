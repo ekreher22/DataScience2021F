{
 "cells": [
  {
   "cell_type": "markdown",
   "id": "58ad0466",
   "metadata": {},
   "source": [
    "# I'm creating this file because I dont want to get rid of my work for these problems but I dont want them to clutter my project notebook"
   ]
  },
  {
   "cell_type": "markdown",
   "id": "4b6a3ac0",
   "metadata": {},
   "source": [
    "# Trying to figure out how to combine the 2 barcharts on one "
   ]
  },
  {
   "cell_type": "code",
   "execution_count": null,
   "id": "faa47131",
   "metadata": {},
   "outputs": [],
   "source": [
    "#concatenated = pd.concat([num_of_eliminated_b.assign(dataset='set1'), num_of_eliminated_bt.assign(dataset='set2')])\n",
    "\n",
    "data = [num_of_eliminated_b[\"bachelor\"], num_of_eliminated_bt[\"bachelorette\"]]\n",
    "#headers = [\"bachlor\", \"bachelorette\"]\n",
    "\n",
    "df3 = pd.concat(data, axis=1)\n",
    "df3['bachelorette'] = df3['bachelorette'].fillna(0)\n",
    "\n",
    "df3.index\n",
    "#df3[['SEASON', 'bachelor', 'bachelorette']].plot(x='SEASOM', kind='bar')\n",
    "#sns.barplot(x = df3.index, y = df3['bachelor', 'bachelorette'], data = df3)\n",
    "#sns.barplot(x = df3.index, y = df3.bachelor, data = df3)\n",
    "#df3.plot(x= df3.index, y=[\"bachelor\",\"bachelorette\"], kind=\"bar\")\n",
    "#graph =pd.DataFrame(df3,columns=[\"SEASON\",\"bachelor\",\"bachelorette\"])\n",
    "#graph.plot(x= 'SEASON', y=[\"bachelor\", \"bachelorette\"], kind=\"bar\")\n",
    "#plt.show()\n",
    "#sns.barplot(x = df3.index, y = [\"bachelor\", \"bachelorette\"], data= df3)\n"
   ]
  },
  {
   "cell_type": "code",
   "execution_count": null,
   "id": "82399d92",
   "metadata": {},
   "outputs": [],
   "source": [
    "# to combine the datasets https://www.kite.com/python/answers/how-to-create-a-pandas-dataframe-from-columns-in-other-dataframes-in-python"
   ]
  },
  {
   "cell_type": "markdown",
   "id": "2e7c4804",
   "metadata": {},
   "source": [
    "## Trying to solve the weight of the scatterplot points"
   ]
  },
  {
   "cell_type": "code",
   "execution_count": null,
   "id": "7ca9e81a",
   "metadata": {},
   "outputs": [],
   "source": [
    "#new = bachelor[['eliminated','total-r']]\n",
    "#new\n",
    "\n",
    "# Turn long format into a wide format\n",
    "#df_wide = new.pivot_table( index='eliminated', columns='total-r', values=new)\n",
    "#df_wide\n",
    "# ploting it\n",
    "#sns.heatmap(df_wide)\n"
   ]
  }
 ],
 "metadata": {
  "kernelspec": {
   "display_name": "Python 3",
   "language": "python",
   "name": "python3"
  },
  "language_info": {
   "codemirror_mode": {
    "name": "ipython",
    "version": 3
   },
   "file_extension": ".py",
   "mimetype": "text/x-python",
   "name": "python",
   "nbconvert_exporter": "python",
   "pygments_lexer": "ipython3",
   "version": "3.8.8"
  }
 },
 "nbformat": 4,
 "nbformat_minor": 5
}
