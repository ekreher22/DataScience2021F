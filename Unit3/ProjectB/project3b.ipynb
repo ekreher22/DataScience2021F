{
 "cells": [
  {
   "cell_type": "code",
   "execution_count": 1,
   "id": "b754f048",
   "metadata": {},
   "outputs": [],
   "source": [
    "import pandas as pd\n",
    "import seaborn as sns\n",
    "import matplotlib.pyplot as plt\n",
    "import numpy as np"
   ]
  },
  {
   "cell_type": "code",
   "execution_count": 2,
   "id": "4dbb91e3",
   "metadata": {},
   "outputs": [
    {
     "data": {
      "text/html": [
       "<div>\n",
       "<style scoped>\n",
       "    .dataframe tbody tr th:only-of-type {\n",
       "        vertical-align: middle;\n",
       "    }\n",
       "\n",
       "    .dataframe tbody tr th {\n",
       "        vertical-align: top;\n",
       "    }\n",
       "\n",
       "    .dataframe thead th {\n",
       "        text-align: right;\n",
       "    }\n",
       "</style>\n",
       "<table border=\"1\" class=\"dataframe\">\n",
       "  <thead>\n",
       "    <tr style=\"text-align: right;\">\n",
       "      <th></th>\n",
       "      <th>SHOW</th>\n",
       "      <th>SEASON</th>\n",
       "      <th>CONTESTANT</th>\n",
       "      <th>ELIMINATION-1</th>\n",
       "      <th>ELIMINATION-2</th>\n",
       "      <th>ELIMINATION-3</th>\n",
       "      <th>ELIMINATION-4</th>\n",
       "      <th>ELIMINATION-5</th>\n",
       "      <th>ELIMINATION-6</th>\n",
       "      <th>ELIMINATION-7</th>\n",
       "      <th>...</th>\n",
       "      <th>DATES-1</th>\n",
       "      <th>DATES-2</th>\n",
       "      <th>DATES-3</th>\n",
       "      <th>DATES-4</th>\n",
       "      <th>DATES-5</th>\n",
       "      <th>DATES-6</th>\n",
       "      <th>DATES-7</th>\n",
       "      <th>DATES-8</th>\n",
       "      <th>DATES-9</th>\n",
       "      <th>DATES-10</th>\n",
       "    </tr>\n",
       "  </thead>\n",
       "  <tbody>\n",
       "    <tr>\n",
       "      <th>0</th>\n",
       "      <td>SHOW</td>\n",
       "      <td>SEASON</td>\n",
       "      <td>ID</td>\n",
       "      <td>1</td>\n",
       "      <td>2</td>\n",
       "      <td>3</td>\n",
       "      <td>4</td>\n",
       "      <td>5</td>\n",
       "      <td>6</td>\n",
       "      <td>7</td>\n",
       "      <td>...</td>\n",
       "      <td>1</td>\n",
       "      <td>2</td>\n",
       "      <td>3</td>\n",
       "      <td>4</td>\n",
       "      <td>5</td>\n",
       "      <td>6</td>\n",
       "      <td>7</td>\n",
       "      <td>8</td>\n",
       "      <td>9</td>\n",
       "      <td>10</td>\n",
       "    </tr>\n",
       "    <tr>\n",
       "      <th>1</th>\n",
       "      <td>Bachelorette</td>\n",
       "      <td>13</td>\n",
       "      <td>13_BRYAN_A</td>\n",
       "      <td>R1</td>\n",
       "      <td>NaN</td>\n",
       "      <td>NaN</td>\n",
       "      <td>R</td>\n",
       "      <td>R</td>\n",
       "      <td>NaN</td>\n",
       "      <td>R</td>\n",
       "      <td>...</td>\n",
       "      <td>NaN</td>\n",
       "      <td>NaN</td>\n",
       "      <td>D6</td>\n",
       "      <td>D13</td>\n",
       "      <td>D1</td>\n",
       "      <td>D7</td>\n",
       "      <td>D1</td>\n",
       "      <td>D1</td>\n",
       "      <td>D1</td>\n",
       "      <td>D1</td>\n",
       "    </tr>\n",
       "    <tr>\n",
       "      <th>2</th>\n",
       "      <td>Bachelorette</td>\n",
       "      <td>13</td>\n",
       "      <td>13_PETER_K</td>\n",
       "      <td>NaN</td>\n",
       "      <td>R</td>\n",
       "      <td>NaN</td>\n",
       "      <td>NaN</td>\n",
       "      <td>NaN</td>\n",
       "      <td>R</td>\n",
       "      <td>R</td>\n",
       "      <td>...</td>\n",
       "      <td>NaN</td>\n",
       "      <td>D1</td>\n",
       "      <td>D6</td>\n",
       "      <td>D13</td>\n",
       "      <td>D9</td>\n",
       "      <td>D7</td>\n",
       "      <td>D1</td>\n",
       "      <td>D1</td>\n",
       "      <td>D1</td>\n",
       "      <td>D1</td>\n",
       "    </tr>\n",
       "    <tr>\n",
       "      <th>3</th>\n",
       "      <td>Bachelorette</td>\n",
       "      <td>13</td>\n",
       "      <td>13_ERIC_B</td>\n",
       "      <td>NaN</td>\n",
       "      <td>NaN</td>\n",
       "      <td>R</td>\n",
       "      <td>NaN</td>\n",
       "      <td>NaN</td>\n",
       "      <td>R</td>\n",
       "      <td>R</td>\n",
       "      <td>...</td>\n",
       "      <td>NaN</td>\n",
       "      <td>D10</td>\n",
       "      <td>D8</td>\n",
       "      <td>D13</td>\n",
       "      <td>D9</td>\n",
       "      <td>D1</td>\n",
       "      <td>D3</td>\n",
       "      <td>D1</td>\n",
       "      <td>D1</td>\n",
       "      <td>NaN</td>\n",
       "    </tr>\n",
       "    <tr>\n",
       "      <th>4</th>\n",
       "      <td>Bachelorette</td>\n",
       "      <td>13</td>\n",
       "      <td>13_DEAN_U</td>\n",
       "      <td>NaN</td>\n",
       "      <td>R</td>\n",
       "      <td>NaN</td>\n",
       "      <td>R</td>\n",
       "      <td>NaN</td>\n",
       "      <td>NaN</td>\n",
       "      <td>R</td>\n",
       "      <td>...</td>\n",
       "      <td>NaN</td>\n",
       "      <td>D8</td>\n",
       "      <td>D8</td>\n",
       "      <td>D1</td>\n",
       "      <td>D9</td>\n",
       "      <td>D7</td>\n",
       "      <td>D1</td>\n",
       "      <td>D1</td>\n",
       "      <td>NaN</td>\n",
       "      <td>NaN</td>\n",
       "    </tr>\n",
       "    <tr>\n",
       "      <th>...</th>\n",
       "      <td>...</td>\n",
       "      <td>...</td>\n",
       "      <td>...</td>\n",
       "      <td>...</td>\n",
       "      <td>...</td>\n",
       "      <td>...</td>\n",
       "      <td>...</td>\n",
       "      <td>...</td>\n",
       "      <td>...</td>\n",
       "      <td>...</td>\n",
       "      <td>...</td>\n",
       "      <td>...</td>\n",
       "      <td>...</td>\n",
       "      <td>...</td>\n",
       "      <td>...</td>\n",
       "      <td>...</td>\n",
       "      <td>...</td>\n",
       "      <td>...</td>\n",
       "      <td>...</td>\n",
       "      <td>...</td>\n",
       "      <td>...</td>\n",
       "    </tr>\n",
       "    <tr>\n",
       "      <th>916</th>\n",
       "      <td>Bachelor</td>\n",
       "      <td>01</td>\n",
       "      <td>01_KRISTINA_X</td>\n",
       "      <td>E</td>\n",
       "      <td>NaN</td>\n",
       "      <td>NaN</td>\n",
       "      <td>NaN</td>\n",
       "      <td>NaN</td>\n",
       "      <td>NaN</td>\n",
       "      <td>NaN</td>\n",
       "      <td>...</td>\n",
       "      <td>NaN</td>\n",
       "      <td>NaN</td>\n",
       "      <td>NaN</td>\n",
       "      <td>NaN</td>\n",
       "      <td>NaN</td>\n",
       "      <td>NaN</td>\n",
       "      <td>NaN</td>\n",
       "      <td>NaN</td>\n",
       "      <td>NaN</td>\n",
       "      <td>NaN</td>\n",
       "    </tr>\n",
       "    <tr>\n",
       "      <th>917</th>\n",
       "      <td>Bachelor</td>\n",
       "      <td>01</td>\n",
       "      <td>01_LISA_X</td>\n",
       "      <td>E</td>\n",
       "      <td>NaN</td>\n",
       "      <td>NaN</td>\n",
       "      <td>NaN</td>\n",
       "      <td>NaN</td>\n",
       "      <td>NaN</td>\n",
       "      <td>NaN</td>\n",
       "      <td>...</td>\n",
       "      <td>NaN</td>\n",
       "      <td>NaN</td>\n",
       "      <td>NaN</td>\n",
       "      <td>NaN</td>\n",
       "      <td>NaN</td>\n",
       "      <td>NaN</td>\n",
       "      <td>NaN</td>\n",
       "      <td>NaN</td>\n",
       "      <td>NaN</td>\n",
       "      <td>NaN</td>\n",
       "    </tr>\n",
       "    <tr>\n",
       "      <th>918</th>\n",
       "      <td>Bachelor</td>\n",
       "      <td>01</td>\n",
       "      <td>01_PAULA_X</td>\n",
       "      <td>E</td>\n",
       "      <td>NaN</td>\n",
       "      <td>NaN</td>\n",
       "      <td>NaN</td>\n",
       "      <td>NaN</td>\n",
       "      <td>NaN</td>\n",
       "      <td>NaN</td>\n",
       "      <td>...</td>\n",
       "      <td>NaN</td>\n",
       "      <td>NaN</td>\n",
       "      <td>NaN</td>\n",
       "      <td>NaN</td>\n",
       "      <td>NaN</td>\n",
       "      <td>NaN</td>\n",
       "      <td>NaN</td>\n",
       "      <td>NaN</td>\n",
       "      <td>NaN</td>\n",
       "      <td>NaN</td>\n",
       "    </tr>\n",
       "    <tr>\n",
       "      <th>919</th>\n",
       "      <td>Bachelor</td>\n",
       "      <td>01</td>\n",
       "      <td>01_RACHEL_X</td>\n",
       "      <td>E</td>\n",
       "      <td>NaN</td>\n",
       "      <td>NaN</td>\n",
       "      <td>NaN</td>\n",
       "      <td>NaN</td>\n",
       "      <td>NaN</td>\n",
       "      <td>NaN</td>\n",
       "      <td>...</td>\n",
       "      <td>NaN</td>\n",
       "      <td>NaN</td>\n",
       "      <td>NaN</td>\n",
       "      <td>NaN</td>\n",
       "      <td>NaN</td>\n",
       "      <td>NaN</td>\n",
       "      <td>NaN</td>\n",
       "      <td>NaN</td>\n",
       "      <td>NaN</td>\n",
       "      <td>NaN</td>\n",
       "    </tr>\n",
       "    <tr>\n",
       "      <th>920</th>\n",
       "      <td>Bachelor</td>\n",
       "      <td>01</td>\n",
       "      <td>01_WENDI_X</td>\n",
       "      <td>E</td>\n",
       "      <td>NaN</td>\n",
       "      <td>NaN</td>\n",
       "      <td>NaN</td>\n",
       "      <td>NaN</td>\n",
       "      <td>NaN</td>\n",
       "      <td>NaN</td>\n",
       "      <td>...</td>\n",
       "      <td>NaN</td>\n",
       "      <td>NaN</td>\n",
       "      <td>NaN</td>\n",
       "      <td>NaN</td>\n",
       "      <td>NaN</td>\n",
       "      <td>NaN</td>\n",
       "      <td>NaN</td>\n",
       "      <td>NaN</td>\n",
       "      <td>NaN</td>\n",
       "      <td>NaN</td>\n",
       "    </tr>\n",
       "  </tbody>\n",
       "</table>\n",
       "<p>921 rows × 23 columns</p>\n",
       "</div>"
      ],
      "text/plain": [
       "             SHOW  SEASON     CONTESTANT ELIMINATION-1 ELIMINATION-2  \\\n",
       "0            SHOW  SEASON             ID             1             2   \n",
       "1    Bachelorette      13     13_BRYAN_A            R1           NaN   \n",
       "2    Bachelorette      13     13_PETER_K           NaN             R   \n",
       "3    Bachelorette      13      13_ERIC_B           NaN           NaN   \n",
       "4    Bachelorette      13      13_DEAN_U           NaN             R   \n",
       "..            ...     ...            ...           ...           ...   \n",
       "916      Bachelor      01  01_KRISTINA_X             E           NaN   \n",
       "917      Bachelor      01      01_LISA_X             E           NaN   \n",
       "918      Bachelor      01     01_PAULA_X             E           NaN   \n",
       "919      Bachelor      01    01_RACHEL_X             E           NaN   \n",
       "920      Bachelor      01     01_WENDI_X             E           NaN   \n",
       "\n",
       "    ELIMINATION-3 ELIMINATION-4 ELIMINATION-5 ELIMINATION-6 ELIMINATION-7  \\\n",
       "0               3             4             5             6             7   \n",
       "1             NaN             R             R           NaN             R   \n",
       "2             NaN           NaN           NaN             R             R   \n",
       "3               R           NaN           NaN             R             R   \n",
       "4             NaN             R           NaN           NaN             R   \n",
       "..            ...           ...           ...           ...           ...   \n",
       "916           NaN           NaN           NaN           NaN           NaN   \n",
       "917           NaN           NaN           NaN           NaN           NaN   \n",
       "918           NaN           NaN           NaN           NaN           NaN   \n",
       "919           NaN           NaN           NaN           NaN           NaN   \n",
       "920           NaN           NaN           NaN           NaN           NaN   \n",
       "\n",
       "     ... DATES-1 DATES-2 DATES-3 DATES-4 DATES-5 DATES-6 DATES-7 DATES-8  \\\n",
       "0    ...       1       2       3       4       5       6       7       8   \n",
       "1    ...     NaN     NaN      D6     D13      D1      D7      D1      D1   \n",
       "2    ...     NaN      D1      D6     D13      D9      D7      D1      D1   \n",
       "3    ...     NaN     D10      D8     D13      D9      D1      D3      D1   \n",
       "4    ...     NaN      D8      D8      D1      D9      D7      D1      D1   \n",
       "..   ...     ...     ...     ...     ...     ...     ...     ...     ...   \n",
       "916  ...     NaN     NaN     NaN     NaN     NaN     NaN     NaN     NaN   \n",
       "917  ...     NaN     NaN     NaN     NaN     NaN     NaN     NaN     NaN   \n",
       "918  ...     NaN     NaN     NaN     NaN     NaN     NaN     NaN     NaN   \n",
       "919  ...     NaN     NaN     NaN     NaN     NaN     NaN     NaN     NaN   \n",
       "920  ...     NaN     NaN     NaN     NaN     NaN     NaN     NaN     NaN   \n",
       "\n",
       "    DATES-9 DATES-10  \n",
       "0         9       10  \n",
       "1        D1       D1  \n",
       "2        D1       D1  \n",
       "3        D1      NaN  \n",
       "4       NaN      NaN  \n",
       "..      ...      ...  \n",
       "916     NaN      NaN  \n",
       "917     NaN      NaN  \n",
       "918     NaN      NaN  \n",
       "919     NaN      NaN  \n",
       "920     NaN      NaN  \n",
       "\n",
       "[921 rows x 23 columns]"
      ]
     },
     "execution_count": 2,
     "metadata": {},
     "output_type": "execute_result"
    }
   ],
   "source": [
    "df = pd.read_csv('bachelorette.csv')\n",
    "df"
   ]
  },
  {
   "cell_type": "markdown",
   "id": "5b873518",
   "metadata": {},
   "source": [
    "#### removing unnecessary rows inbetween seasons"
   ]
  },
  {
   "cell_type": "code",
   "execution_count": 3,
   "id": "3a46c62f",
   "metadata": {},
   "outputs": [],
   "source": [
    "df.drop(df[df.SEASON == 'SEASON'].index, inplace=True)"
   ]
  },
  {
   "cell_type": "markdown",
   "id": "9ac54f46",
   "metadata": {},
   "source": [
    "#### seperate bachelor and bachelorette "
   ]
  },
  {
   "cell_type": "code",
   "execution_count": 4,
   "id": "5d62f288",
   "metadata": {},
   "outputs": [],
   "source": [
    "grouped = df.groupby(df.SHOW)\n",
    "bachelorette = grouped.get_group(\"Bachelorette\")\n",
    "bachelor = grouped.get_group(\"Bachelor\")"
   ]
  },
  {
   "cell_type": "markdown",
   "id": "7129a081",
   "metadata": {},
   "source": [
    "## What season has the most eliminated contestants on the first night?"
   ]
  },
  {
   "cell_type": "markdown",
   "id": "7d3592fb",
   "metadata": {},
   "source": [
    "### Bachelor:"
   ]
  },
  {
   "cell_type": "code",
   "execution_count": 5,
   "id": "aa998dbe",
   "metadata": {},
   "outputs": [],
   "source": [
    "num_of_eliminated_b = bachelor.loc[(bachelor['ELIMINATION-1']== 'E'),['SEASON','ELIMINATION-1']]\n",
    "num_of_eliminated_b = num_of_eliminated_b.groupby('SEASON').count()\n",
    "num_of_eliminated_b = num_of_eliminated_b.rename(columns = {'ELIMINATION-1':'bachelor'})"
   ]
  },
  {
   "cell_type": "code",
   "execution_count": 6,
   "id": "83500cbf",
   "metadata": {},
   "outputs": [
    {
     "data": {
      "text/plain": [
       "Text(0, 0.5, 'Number of People')"
      ]
     },
     "execution_count": 6,
     "metadata": {},
     "output_type": "execute_result"
    },
    {
     "data": {
      "image/png": "[encoded data removed]",
      "text/plain": [
       "<Figure size 432x288 with 1 Axes>"
      ]
     },
     "metadata": {
      "needs_background": "light"
     },
     "output_type": "display_data"
    }
   ],
   "source": [
    "sns.barplot(x = num_of_eliminated_b.index, y = num_of_eliminated_b.bachelor, data = num_of_eliminated_b)\n",
    "plt.title('The Number of People That Got Eliminated on Night 1 Per Season in the Bachelor')\n",
    "plt.xlabel('Season')\n",
    "plt.ylabel('Number of People')"
   ]
  },
  {
   "cell_type": "markdown",
   "id": "f117362e",
   "metadata": {},
   "source": [
    "### Bachelorette:"
   ]
  },
  {
   "cell_type": "code",
   "execution_count": 7,
   "id": "20270381",
   "metadata": {},
   "outputs": [],
   "source": [
    "num_of_eliminated_bt = bachelorette.loc[(bachelorette['ELIMINATION-1']== 'E'),['SEASON','ELIMINATION-1']]\n",
    "num_of_eliminated_bt = num_of_eliminated_bt.groupby('SEASON').count()\n",
    "num_of_eliminated_bt = num_of_eliminated_bt.rename(columns = {'ELIMINATION-1':'bachelorette'})"
   ]
  },
  {
   "cell_type": "code",
   "execution_count": 8,
   "id": "44f82bed",
   "metadata": {},
   "outputs": [
    {
     "data": {
      "text/plain": [
       "Text(0, 0.5, 'Number of People')"
      ]
     },
     "execution_count": 8,
     "metadata": {},
     "output_type": "execute_result"
    },
    {
     "data": {
      "image/png": "[encoded data removed]",
      "text/plain": [
       "<Figure size 432x288 with 1 Axes>"
      ]
     },
     "metadata": {
      "needs_background": "light"
     },
     "output_type": "display_data"
    }
   ],
   "source": [
    "sns.barplot(x = num_of_eliminated_bt.index, y = num_of_eliminated_bt.bachelorette, data = num_of_eliminated_bt)\n",
    "plt.title('The Number of People That Got Eliminated on Night 1 Per Season in the Bachelorette')\n",
    "plt.xlabel('Season')\n",
    "plt.ylabel('Number of People')"
   ]
  },
  {
   "cell_type": "markdown",
   "id": "69712a4e",
   "metadata": {},
   "source": [
    "## When did the person that got the first rose get eliminated using heatmap "
   ]
  },
  {
   "cell_type": "code",
   "execution_count": 9,
   "id": "2e2adff1",
   "metadata": {},
   "outputs": [
    {
     "name": "stderr",
     "output_type": "stream",
     "text": [
      "<ipython-input-9-e09dd433ec4a>:1: SettingWithCopyWarning: \n",
      "A value is trying to be set on a copy of a slice from a DataFrame.\n",
      "Try using .loc[row_indexer,col_indexer] = value instead\n",
      "\n",
      "See the caveats in the documentation: https://pandas.pydata.org/pandas-docs/stable/user_guide/indexing.html#returning-a-view-versus-a-copy\n",
      "  bachelor['total-r'] = 0\n",
      "<ipython-input-9-e09dd433ec4a>:5: SettingWithCopyWarning: \n",
      "A value is trying to be set on a copy of a slice from a DataFrame\n",
      "\n",
      "See the caveats in the documentation: https://pandas.pydata.org/pandas-docs/stable/user_guide/indexing.html#returning-a-view-versus-a-copy\n",
      "  bachelor['total-r'][index] = bachelor['total-r'][index] + 1\n",
      "/Users/elainakreher/opt/anaconda3/lib/python3.8/site-packages/IPython/core/interactiveshell.py:3437: SettingWithCopyWarning: \n",
      "A value is trying to be set on a copy of a slice from a DataFrame\n",
      "\n",
      "See the caveats in the documentation: https://pandas.pydata.org/pandas-docs/stable/user_guide/indexing.html#returning-a-view-versus-a-copy\n",
      "  exec(code_obj, self.user_global_ns, self.user_ns)\n",
      "<ipython-input-9-e09dd433ec4a>:6: SettingWithCopyWarning: \n",
      "A value is trying to be set on a copy of a slice from a DataFrame.\n",
      "Try using .loc[row_indexer,col_indexer] = value instead\n",
      "\n",
      "See the caveats in the documentation: https://pandas.pydata.org/pandas-docs/stable/user_guide/indexing.html#returning-a-view-versus-a-copy\n",
      "  bachelor['eliminated'] = 0\n",
      "<ipython-input-9-e09dd433ec4a>:10: SettingWithCopyWarning: \n",
      "A value is trying to be set on a copy of a slice from a DataFrame\n",
      "\n",
      "See the caveats in the documentation: https://pandas.pydata.org/pandas-docs/stable/user_guide/indexing.html#returning-a-view-versus-a-copy\n",
      "  bachelor['eliminated'][index] = e\n"
     ]
    },
    {
     "data": {
      "text/plain": [
       "Text(0, 0.5, 'Number of Roses the Contestant Recieved')"
      ]
     },
     "execution_count": 9,
     "metadata": {},
     "output_type": "execute_result"
    },
    {
     "data": {
      "image/png": "[encoded data removed]",
      "text/plain": [
       "<Figure size 432x288 with 1 Axes>"
      ]
     },
     "metadata": {
      "needs_background": "light"
     },
     "output_type": "display_data"
    }
   ],
   "source": [
    "bachelor['total-r'] = 0\n",
    "for index, person in bachelor.iterrows():\n",
    "    for e in range(1,10):\n",
    "        if person['ELIMINATION-' + str(e)] == 'R' or person['ELIMINATION-' + str(e)] == 'R1':\n",
    "                bachelor['total-r'][index] = bachelor['total-r'][index] + 1\n",
    "bachelor['eliminated'] = 0\n",
    "for index, person in bachelor.iterrows():\n",
    "    for e in range(2,10):\n",
    "        if person['ELIMINATION-' + str(e)] == 'E':\n",
    "             bachelor['eliminated'][index] = e\n",
    "\n",
    "\n",
    "\n",
    "#new = bachelor[['eliminated','total-r']]\n",
    "#new\n",
    "\n",
    "# Turn long format into a wide format\n",
    "#df_wide = new.pivot_table( index='eliminated', columns='total-r', values=new)\n",
    "#df_wide\n",
    "# ploting it\n",
    "#sns.heatmap(df_wide)\n",
    "\n",
    "\n",
    "#x=week they were eliminated y=number of roses they had\n",
    "\n",
    "sns.scatterplot(data=bachelor, x=\"eliminated\", y=\"total-r\")\n",
    "plt.title('The Relationship between How Many Roses a Contestant got and When in the season they got eliminated')\n",
    "plt.xlabel('Week that the Contestant was Eliminated')\n",
    "plt.ylabel('Number of Roses the Contestant Recieved')"
   ]
  },
  {
   "cell_type": "code",
   "execution_count": 10,
   "id": "8cee3b1e",
   "metadata": {},
   "outputs": [],
   "source": [
    "# for making the data wide https://www.python-graph-gallery.com/90-heatmaps-with-various-input-format"
   ]
  },
  {
   "cell_type": "markdown",
   "id": "53454a7e",
   "metadata": {},
   "source": [
    "## What contestants got the first impression rose and won the whole season?"
   ]
  },
  {
   "cell_type": "markdown",
   "id": "aa5fb67b",
   "metadata": {},
   "source": [
    "### Bachelor:"
   ]
  },
  {
   "cell_type": "code",
   "execution_count": 11,
   "id": "986146d8",
   "metadata": {},
   "outputs": [
    {
     "data": {
      "text/html": [
       "<div>\n",
       "<style scoped>\n",
       "    .dataframe tbody tr th:only-of-type {\n",
       "        vertical-align: middle;\n",
       "    }\n",
       "\n",
       "    .dataframe tbody tr th {\n",
       "        vertical-align: top;\n",
       "    }\n",
       "\n",
       "    .dataframe thead th {\n",
       "        text-align: right;\n",
       "    }\n",
       "</style>\n",
       "<table border=\"1\" class=\"dataframe\">\n",
       "  <thead>\n",
       "    <tr style=\"text-align: right;\">\n",
       "      <th></th>\n",
       "      <th>SEASON</th>\n",
       "      <th>CONTESTANT</th>\n",
       "    </tr>\n",
       "  </thead>\n",
       "  <tbody>\n",
       "    <tr>\n",
       "      <th>352</th>\n",
       "      <td>21</td>\n",
       "      <td>21_VANESSA_G</td>\n",
       "    </tr>\n",
       "    <tr>\n",
       "      <th>471</th>\n",
       "      <td>17</td>\n",
       "      <td>17_CATHERINE_G</td>\n",
       "    </tr>\n",
       "  </tbody>\n",
       "</table>\n",
       "</div>"
      ],
      "text/plain": [
       "    SEASON      CONTESTANT\n",
       "352     21    21_VANESSA_G\n",
       "471     17  17_CATHERINE_G"
      ]
     },
     "execution_count": 11,
     "metadata": {},
     "output_type": "execute_result"
    }
   ],
   "source": [
    "bachelor.loc[(bachelor['ELIMINATION-1']== 'R1') & (bachelor['ELIMINATION-10'] == 'W'),['SEASON','CONTESTANT']]"
   ]
  },
  {
   "cell_type": "markdown",
   "id": "6b00bd15",
   "metadata": {},
   "source": [
    "### Bachelorette:"
   ]
  },
  {
   "cell_type": "code",
   "execution_count": 12,
   "id": "ebb5f33f",
   "metadata": {},
   "outputs": [
    {
     "data": {
      "text/html": [
       "<div>\n",
       "<style scoped>\n",
       "    .dataframe tbody tr th:only-of-type {\n",
       "        vertical-align: middle;\n",
       "    }\n",
       "\n",
       "    .dataframe tbody tr th {\n",
       "        vertical-align: top;\n",
       "    }\n",
       "\n",
       "    .dataframe thead th {\n",
       "        text-align: right;\n",
       "    }\n",
       "</style>\n",
       "<table border=\"1\" class=\"dataframe\">\n",
       "  <thead>\n",
       "    <tr style=\"text-align: right;\">\n",
       "      <th></th>\n",
       "      <th>SEASON</th>\n",
       "      <th>CONTESTANT</th>\n",
       "    </tr>\n",
       "  </thead>\n",
       "  <tbody>\n",
       "    <tr>\n",
       "      <th>1</th>\n",
       "      <td>13</td>\n",
       "      <td>13_BRYAN_A</td>\n",
       "    </tr>\n",
       "    <tr>\n",
       "      <th>33</th>\n",
       "      <td>12</td>\n",
       "      <td>12_JORDAN_R</td>\n",
       "    </tr>\n",
       "    <tr>\n",
       "      <th>191</th>\n",
       "      <td>06</td>\n",
       "      <td>06_ROBERT_M</td>\n",
       "    </tr>\n",
       "  </tbody>\n",
       "</table>\n",
       "</div>"
      ],
      "text/plain": [
       "    SEASON   CONTESTANT\n",
       "1       13   13_BRYAN_A\n",
       "33      12  12_JORDAN_R\n",
       "191     06  06_ROBERT_M"
      ]
     },
     "execution_count": 12,
     "metadata": {},
     "output_type": "execute_result"
    }
   ],
   "source": [
    "bachelorette.loc[(bachelorette['ELIMINATION-1']== 'R1') & (bachelorette['ELIMINATION-10'] == 'W'),['SEASON','CONTESTANT']]"
   ]
  },
  {
   "cell_type": "markdown",
   "id": "dbd39349",
   "metadata": {},
   "source": [
    "## Which season had the most unscheduled eliminations?"
   ]
  },
  {
   "cell_type": "markdown",
   "id": "41603bb8",
   "metadata": {},
   "source": [
    "### Bachelor:"
   ]
  },
  {
   "cell_type": "code",
   "execution_count": 13,
   "id": "1e7055fa",
   "metadata": {},
   "outputs": [
    {
     "data": {
      "text/plain": [
       "Text(0, 0.5, 'Number of Unscheduled Eliminations')"
      ]
     },
     "execution_count": 13,
     "metadata": {},
     "output_type": "execute_result"
    },
    {
     "data": {
      "image/png": "[encoded data removed]",
      "text/plain": [
       "<Figure size 432x288 with 1 Axes>"
      ]
     },
     "metadata": {
      "needs_background": "light"
     },
     "output_type": "display_data"
    }
   ],
   "source": [
    "unscheduled_eliminations = bachelor[bachelor.isin(['EU']).any(axis=1)]\n",
    "unscheduled_eliminations = unscheduled_eliminations.groupby('SEASON').count()\n",
    "sns.barplot(x = unscheduled_eliminations.index, y = unscheduled_eliminations.CONTESTANT, data = bachelor)\n",
    "plt.title('The Number of Unscheduled Eliminations for the Bachelor Per Season')\n",
    "plt.xlabel('Season')\n",
    "plt.ylabel('Number of Unscheduled Eliminations')"
   ]
  },
  {
   "cell_type": "markdown",
   "id": "1cef3944",
   "metadata": {},
   "source": [
    "### Bachelorette:"
   ]
  },
  {
   "cell_type": "code",
   "execution_count": 14,
   "id": "bf40014a",
   "metadata": {},
   "outputs": [
    {
     "data": {
      "text/plain": [
       "Text(0, 0.5, 'Number of Unscheduled Eliminations')"
      ]
     },
     "execution_count": 14,
     "metadata": {},
     "output_type": "execute_result"
    },
    {
     "data": {
      "image/png": "[encoded data removed]",
      "text/plain": [
       "<Figure size 432x288 with 1 Axes>"
      ]
     },
     "metadata": {
      "needs_background": "light"
     },
     "output_type": "display_data"
    }
   ],
   "source": [
    "unscheduled_eliminations = bachelorette[bachelorette.isin(['EU']).any(axis=1)]\n",
    "unscheduled_eliminations = unscheduled_eliminations.groupby('SEASON').count()\n",
    "sns.barplot(x = unscheduled_eliminations.index, y = unscheduled_eliminations.CONTESTANT, data = bachelorette)\n",
    "plt.title('The Number of Unscheduled Eliminations for the Bachelorette Per Season')\n",
    "plt.xlabel('Season')\n",
    "plt.ylabel('Number of Unscheduled Eliminations')"
   ]
  },
  {
   "cell_type": "code",
   "execution_count": 15,
   "id": "4dff4925",
   "metadata": {},
   "outputs": [],
   "source": [
    "# got isin from https://www.statology.org/pandas-find-value-any-column/"
   ]
  },
  {
   "cell_type": "code",
   "execution_count": null,
   "id": "766bf32e",
   "metadata": {},
   "outputs": [],
   "source": []
  }
 ],
 "metadata": {
  "kernelspec": {
   "display_name": "Python 3",
   "language": "python",
   "name": "python3"
  },
  "language_info": {
   "codemirror_mode": {
    "name": "ipython",
    "version": 3
   },
   "file_extension": ".py",
   "mimetype": "text/x-python",
   "name": "python",
   "nbconvert_exporter": "python",
   "pygments_lexer": "ipython3",
   "version": "3.8.8"
  }
 },
 "nbformat": 4,
 "nbformat_minor": 5
}
