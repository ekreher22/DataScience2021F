{
 "cells": [
  {
   "cell_type": "markdown",
   "id": "a3a28689",
   "metadata": {},
   "source": [
    "# Data Science Lesson - Data Structures\n",
    "---\n",
    "**Question: How do we represent our Stick Figure Google Sheet (table) in a Python variable?**\n",
    "\n",
    "### List of Dictionaries\n",
    "\n",
    "Represent each person as a dictionary, and store them all in a list. Output the list to verify."
   ]
  },
  {
   "cell_type": "code",
   "execution_count": 15,
   "id": "46d98ee3",
   "metadata": {},
   "outputs": [],
   "source": [
    "dict1 = {\"name\": \"Dakota\", \"height\": 72, \"GPA\": 3.15, \"friends\": 307}\n",
    "dict2 = {\"name\": \"Hayden\", \"height\": 68, \"GPA\": 3.50, \"friends\": 335}\n",
    "dict3 = {\"name\": \"Charlie\",\"height\": 61, \"GPA\": 1.1, \"friends\": 34}\n",
    "dict4 = {\"name\": \"Kamryn\",\"height\": 66, \"GPA\": 2.18, \"friends\": 200}\n",
    "dict5 = {\"name\": \"Emerson\",\"height\": 65, \"GPA\": 3.06, \"friends\": 213}\n",
    "dict6 = {\"name\": \"Jessie\",\"height\": 61, \"GPA\": 2.41, \"friends\": 202}\n",
    "dict7 = {\"name\": \"Sawyer\",\"height\": 67, \"GPA\": 2.96, \"friends\": 314}\n",
    "dict8 = {\"name\": \"London\",\"height\": 64, \"GPA\": 3.98, \"friends\": 436}\n",
    "people = [dict1, dict2, dict3, dict4, dict5, dict6, dict7, dict8]"
   ]
  },
  {
   "cell_type": "markdown",
   "id": "9dee2d16",
   "metadata": {},
   "source": [
    "What is the mean height of people in our list? First, use pure Python functions to calculate this, and output to verify. First, get the heights:"
   ]
  },
  {
   "cell_type": "code",
   "execution_count": 24,
   "id": "3525da44",
   "metadata": {},
   "outputs": [
    {
     "name": "stdout",
     "output_type": "stream",
     "text": [
      "[72, 68, 61, 66, 65, 61, 67, 64]\n"
     ]
    }
   ],
   "source": [
    "heights = []\n",
    "for person in people:\n",
    "    heights.append(person[\"height\"])\n",
    "print(heights)"
   ]
  },
  {
   "cell_type": "markdown",
   "id": "b4a0df31",
   "metadata": {},
   "source": [
    "Next, calculate the mean:"
   ]
  },
  {
   "cell_type": "code",
   "execution_count": 25,
   "id": "5959d6e7",
   "metadata": {},
   "outputs": [
    {
     "name": "stdout",
     "output_type": "stream",
     "text": [
      "65.5\n"
     ]
    }
   ],
   "source": [
    "sum_of_heights = 0\n",
    "for person in people:\n",
    "    sum_of_heights += person.get('height')\n",
    "mean = sum_of_heights / 8\n",
    "print(mean)"
   ]
  },
  {
   "cell_type": "markdown",
   "id": "bd6592b4",
   "metadata": {},
   "source": [
    "Now, import numpy (as np) and use its mean function to find the mean of the heights list directly."
   ]
  },
  {
   "cell_type": "code",
   "execution_count": 27,
   "id": "dac4edc5",
   "metadata": {},
   "outputs": [
    {
     "name": "stdout",
     "output_type": "stream",
     "text": [
      "65.5\n"
     ]
    }
   ],
   "source": [
    "import numpy as np\n",
    "mean = np.mean(heights)\n",
    "print(mean)"
   ]
  },
  {
   "cell_type": "markdown",
   "id": "25f72f93",
   "metadata": {},
   "source": [
    "## Dictionary of Lists\n",
    "\n",
    "Using a dictionary and key/value pairs, represent each attribute (column) of a person as a key and all the values of each attribute as a list. I.e., a dictionary of lists. Output the dict to verify."
   ]
  },
  {
   "cell_type": "code",
   "execution_count": 36,
   "id": "d5dca641",
   "metadata": {},
   "outputs": [
    {
     "name": "stdout",
     "output_type": "stream",
     "text": [
      "{'names': ['Dakota', 'Hayden', 'Charlie', 'Kamryn', 'Emerson', 'Jessie', 'Sawyer', 'London'], 'heights': [72, 68, 61, 66, 65, 61, 67, 64], 'gpas': [3.15, 3.5, 1.1, 2.18, 3.06, 2.41, 2.96, 3.98], 'friends': [307, 335, 34, 200, 213, 202, 314, 436]}\n"
     ]
    }
   ],
   "source": [
    "names = [person[\"name\"] for person in people]\n",
    "gpas = [person[\"GPA\"] for person in people]\n",
    "friends = [person[\"friends\"] for person in people]\n",
    "\n",
    "people2 = {\"names\": names, \"heights\": heights, \"gpas\": gpas, \"friends\": friends}\n",
    "print(people2) "
   ]
  },
  {
   "cell_type": "markdown",
   "id": "846bdc27",
   "metadata": {},
   "source": [
    "Now use NumPy to get the mean in one statement."
   ]
  },
  {
   "cell_type": "code",
   "execution_count": null,
   "id": "898bb3cd",
   "metadata": {},
   "outputs": [],
   "source": []
  },
  {
   "cell_type": "markdown",
   "id": "5f0ed550",
   "metadata": {},
   "source": [
    "**So, which approach should we use? Or is there a better way? Hmmm...**"
   ]
  }
 ],
 "metadata": {
  "kernelspec": {
   "display_name": "Python 3",
   "language": "python",
   "name": "python3"
  },
  "language_info": {
   "codemirror_mode": {
    "name": "ipython",
    "version": 3
   },
   "file_extension": ".py",
   "mimetype": "text/x-python",
   "name": "python",
   "nbconvert_exporter": "python",
   "pygments_lexer": "ipython3",
   "version": "3.8.8"
  }
 },
 "nbformat": 4,
 "nbformat_minor": 5
}
