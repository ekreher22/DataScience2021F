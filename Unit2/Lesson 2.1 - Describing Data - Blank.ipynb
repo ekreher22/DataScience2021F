{
 "cells": [
  {
   "cell_type": "markdown",
   "id": "58b0800d",
   "metadata": {},
   "source": [
    "# Data Science Lesson - Describing Data\n",
    "---\n",
    "**How do we describe a one-dimensional data set?**\n",
    "\n",
    "Create a list of at least ten numeric grades (0-100). Output the list to verify."
   ]
  },
  {
   "cell_type": "code",
   "execution_count": 4,
   "id": "19a79be5",
   "metadata": {},
   "outputs": [
    {
     "name": "stdout",
     "output_type": "stream",
     "text": [
      "[80, 74, 60, 99, 67, 100, 82, 88, 76, 81]\n"
     ]
    }
   ],
   "source": [
    "grades = [80, 74, 60, 99, 67, 100, 82, 88, 76, 81]\n",
    "print(grades)"
   ]
  },
  {
   "cell_type": "markdown",
   "id": "09ff9e4a",
   "metadata": {},
   "source": [
    "Find the number (the count) of grades in the list and output it."
   ]
  },
  {
   "cell_type": "code",
   "execution_count": 11,
   "id": "acb71f36",
   "metadata": {},
   "outputs": [
    {
     "name": "stdout",
     "output_type": "stream",
     "text": [
      "10\n"
     ]
    }
   ],
   "source": [
    "print(len(grades))"
   ]
  },
  {
   "cell_type": "markdown",
   "id": "36a3600d",
   "metadata": {},
   "source": [
    "Calculate the mean grade using an old-fashioned for loop and the count from above."
   ]
  },
  {
   "cell_type": "code",
   "execution_count": 14,
   "id": "6b19a460",
   "metadata": {},
   "outputs": [
    {
     "name": "stdout",
     "output_type": "stream",
     "text": [
      "80.7\n"
     ]
    }
   ],
   "source": [
    "sum = 0\n",
    "for x in grades:\n",
    "    sum = sum + x\n",
    "mean = sum / len(grades) \n",
    "print(mean)"
   ]
  },
  {
   "cell_type": "markdown",
   "id": "60de1662",
   "metadata": {},
   "source": [
    "Calculate the minimum and maximum grades using an old-fashioned for loop and some clever logic. (You may want to whiteboard an algorithm first!) Output (print) them on one line (e.g., \"Minimum: 67 | Maximum: 99\")"
   ]
  },
  {
   "cell_type": "code",
   "execution_count": 27,
   "id": "a9334a8d",
   "metadata": {},
   "outputs": [],
   "source": [
    "#min = grades[0]\n",
    "#max = grades[0]\n",
    "#for grade in grades:\n",
    "   # if grades[x] < min:\n",
    "       # max = grades[x]\n",
    "       # x += 1\n",
    "   # if grades[y] > max:"
   ]
  },
  {
   "cell_type": "markdown",
   "id": "899afe6a",
   "metadata": {},
   "source": [
    "Manually calculate the population standard deviation of grades.\n",
    "See: https://www.thoughtco.com/population-vs-sample-standard-deviations-3126372"
   ]
  },
  {
   "cell_type": "code",
   "execution_count": 25,
   "id": "45ae5b1b",
   "metadata": {},
   "outputs": [
    {
     "name": "stdout",
     "output_type": "stream",
     "text": [
      "0.05678616100321631\n"
     ]
    }
   ],
   "source": [
    "x = 0\n",
    "sum = 0\n",
    "devs = [(x-mean)]\n",
    "for x in grades:\n",
    "    sum = (x-mean)**2\n",
    "stdev = sum/len(grades)**0.2\n",
    "print(stdev)   "
   ]
  },
  {
   "cell_type": "markdown",
   "id": "7eb375cf",
   "metadata": {},
   "source": [
    "## Use NumPy\n",
    "\n",
    "Import NumPy (as np) and verify the standard deviation using its .std function (which takes a list as an argument).\n",
    "\n",
    "See: https://numpy.org/ and/or https://www.w3schools.com/python/numpy/"
   ]
  },
  {
   "cell_type": "code",
   "execution_count": 29,
   "id": "85c4ff89",
   "metadata": {},
   "outputs": [
    {
     "data": {
      "text/plain": [
       "12.02538980657176"
      ]
     },
     "execution_count": 29,
     "metadata": {},
     "output_type": "execute_result"
    }
   ],
   "source": [
    "import numpy as np\n",
    "np.std(grades)"
   ]
  },
  {
   "cell_type": "markdown",
   "id": "5d8319cb",
   "metadata": {},
   "source": [
    "**NumPy and other data science modules for Python do all the tedious work for us, and very efficiently!**"
   ]
  }
 ],
 "metadata": {
  "kernelspec": {
   "display_name": "Python 3",
   "language": "python",
   "name": "python3"
  },
  "language_info": {
   "codemirror_mode": {
    "name": "ipython",
    "version": 3
   },
   "file_extension": ".py",
   "mimetype": "text/x-python",
   "name": "python",
   "nbconvert_exporter": "python",
   "pygments_lexer": "ipython3",
   "version": "3.8.8"
  }
 },
 "nbformat": 4,
 "nbformat_minor": 5
}
