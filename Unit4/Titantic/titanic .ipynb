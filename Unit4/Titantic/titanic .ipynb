{
 "cells": [
  {
   "cell_type": "markdown",
   "id": "2cbb369d",
   "metadata": {},
   "source": [
    "# Titanic Competition "
   ]
  },
  {
   "cell_type": "code",
   "execution_count": 1,
   "id": "6df1a271",
   "metadata": {},
   "outputs": [],
   "source": [
    "import pandas as pd\n",
    "from sklearn.metrics import mean_absolute_error\n",
    "from sklearn.model_selection import train_test_split\n",
    "from sklearn.tree import DecisionTreeRegressor\n",
    "from sklearn.ensemble import RandomForestRegressor\n",
    "from sklearn.impute import SimpleImputer\n",
    "import numpy as np\n",
    "from sklearn.model_selection import cross_val_score\n",
    "\n",
    "train_data = pd.read_csv('train.csv')\n",
    "test_data = pd.read_csv('test.csv')"
   ]
  },
  {
   "cell_type": "markdown",
   "id": "04bf78c9",
   "metadata": {},
   "source": [
    "## Cleaning the Code"
   ]
  },
  {
   "cell_type": "code",
   "execution_count": 2,
   "id": "9b52eed9",
   "metadata": {},
   "outputs": [
    {
     "name": "stdout",
     "output_type": "stream",
     "text": [
      "<class 'pandas.core.frame.DataFrame'>\n",
      "RangeIndex: 891 entries, 0 to 890\n",
      "Data columns (total 12 columns):\n",
      " #   Column       Non-Null Count  Dtype  \n",
      "---  ------       --------------  -----  \n",
      " 0   PassengerId  891 non-null    int64  \n",
      " 1   Survived     891 non-null    int64  \n",
      " 2   Pclass       891 non-null    int64  \n",
      " 3   Name         891 non-null    object \n",
      " 4   Sex          891 non-null    object \n",
      " 5   Age          714 non-null    float64\n",
      " 6   SibSp        891 non-null    int64  \n",
      " 7   Parch        891 non-null    int64  \n",
      " 8   Ticket       891 non-null    object \n",
      " 9   Fare         891 non-null    float64\n",
      " 10  Cabin        204 non-null    object \n",
      " 11  Embarked     889 non-null    object \n",
      "dtypes: float64(2), int64(5), object(5)\n",
      "memory usage: 83.7+ KB\n"
     ]
    }
   ],
   "source": [
    "train_data.info()"
   ]
  },
  {
   "cell_type": "markdown",
   "id": "6448afbf",
   "metadata": {},
   "source": [
    "## Filling in the NaN Ages"
   ]
  },
  {
   "cell_type": "code",
   "execution_count": 3,
   "id": "b664833e",
   "metadata": {},
   "outputs": [],
   "source": [
    "train_data['Age'] = train_data['Age'].fillna(train_data['Age'].median())\n",
    "\n",
    "#finding the missing age values using the Sex and Pclass instead of just age\n",
    "grouped_train = train_data.groupby(['Sex','Pclass'])\n",
    "grouped_median_train = grouped_train.median()\n",
    "grouped_median_train = grouped_median_train.reset_index()[['Sex', 'Pclass', 'Age']]\n",
    "\n",
    "def fill_age(row):\n",
    "    condition = (\n",
    "        (grouped_median_train['Sex'] == row['Sex']) &  \n",
    "        (grouped_median_train['Pclass'] == row['Pclass'])\n",
    "    ) \n",
    "    return grouped_median_train[condition]['Age'].values[0]\n",
    "\n",
    "def process_age():\n",
    "    global train_data\n",
    "    # a function that fills the missing values of the Age variable\n",
    "    train_data['Age'] = train_data.apply(lambda row: fill_age(row) if np.isnan(row['Age']) else row['Age'], axis=1)\n",
    "    return train_data\n",
    "\n",
    "train_data = process_age()"
   ]
  },
  {
   "cell_type": "markdown",
   "id": "1d0bd896",
   "metadata": {},
   "source": [
    "### doing the same thing for test data"
   ]
  },
  {
   "cell_type": "code",
   "execution_count": 4,
   "id": "a171c040",
   "metadata": {},
   "outputs": [],
   "source": [
    "test_data['Age'] = test_data['Age'].fillna(test_data['Age'].median())\n",
    "\n",
    "#finding the missing age values using the Sex and Pclass instead of just age\n",
    "grouped_test = test_data.groupby(['Sex','Pclass'])\n",
    "grouped_median_test = grouped_test.median()\n",
    "grouped_median_test = grouped_median_test.reset_index()[['Sex', 'Pclass', 'Age']]\n",
    "\n",
    "def fill_age(row):\n",
    "    condition = (\n",
    "        (grouped_median_test['Sex'] == row['Sex']) &  \n",
    "        (grouped_median_test['Pclass'] == row['Pclass'])\n",
    "    ) \n",
    "    return grouped_median_test[condition]['Age'].values[0]\n",
    "\n",
    "def process_age():\n",
    "    global test_data\n",
    "    # a function that fills the missing values of the Age variable\n",
    "    test_data['Age'] = test_data.apply(lambda row: fill_age(row) if np.isnan(row['Age']) else row['Age'], axis=1)\n",
    "    return test_data\n",
    "\n",
    "test_data = process_age()"
   ]
  },
  {
   "cell_type": "markdown",
   "id": "22e16e3c",
   "metadata": {},
   "source": [
    "I used https://github.com/ahmedbesbes/How-to-score-0.8134-in-Titanic-Kaggle-Challenge/blob/master/article_1.ipynb to figure out the code for finding a more accurate guessed age of the passenger"
   ]
  },
  {
   "cell_type": "markdown",
   "id": "aa40c104",
   "metadata": {},
   "source": [
    "## Rounding Age and filling NaN in Fare"
   ]
  },
  {
   "cell_type": "code",
   "execution_count": 5,
   "id": "1179d7b6",
   "metadata": {},
   "outputs": [],
   "source": [
    "#Round age to the ones place\n",
    "train_data['Age'] = train_data['Age'].apply(np.floor).astype(int)\n",
    "test_data['Age'] = test_data['Age'].apply(np.floor).astype(int)\n",
    "\n",
    "#Fare is missing one value so I found the mean and inplaced it\n",
    "test_data['Fare'].fillna(test_data['Fare'].mean(), inplace = True)\n"
   ]
  },
  {
   "cell_type": "code",
   "execution_count": 6,
   "id": "a45481ca",
   "metadata": {},
   "outputs": [
    {
     "name": "stdout",
     "output_type": "stream",
     "text": [
      "<class 'pandas.core.frame.DataFrame'>\n",
      "RangeIndex: 891 entries, 0 to 890\n",
      "Data columns (total 12 columns):\n",
      " #   Column       Non-Null Count  Dtype  \n",
      "---  ------       --------------  -----  \n",
      " 0   PassengerId  891 non-null    int64  \n",
      " 1   Survived     891 non-null    int64  \n",
      " 2   Pclass       891 non-null    int64  \n",
      " 3   Name         891 non-null    object \n",
      " 4   Sex          891 non-null    object \n",
      " 5   Age          891 non-null    int64  \n",
      " 6   SibSp        891 non-null    int64  \n",
      " 7   Parch        891 non-null    int64  \n",
      " 8   Ticket       891 non-null    object \n",
      " 9   Fare         891 non-null    float64\n",
      " 10  Cabin        204 non-null    object \n",
      " 11  Embarked     889 non-null    object \n",
      "dtypes: float64(1), int64(6), object(5)\n",
      "memory usage: 83.7+ KB\n"
     ]
    }
   ],
   "source": [
    "train_data.info()"
   ]
  },
  {
   "cell_type": "code",
   "execution_count": 7,
   "id": "79e3c416",
   "metadata": {},
   "outputs": [
    {
     "name": "stdout",
     "output_type": "stream",
     "text": [
      "<class 'pandas.core.frame.DataFrame'>\n",
      "RangeIndex: 418 entries, 0 to 417\n",
      "Data columns (total 11 columns):\n",
      " #   Column       Non-Null Count  Dtype  \n",
      "---  ------       --------------  -----  \n",
      " 0   PassengerId  418 non-null    int64  \n",
      " 1   Pclass       418 non-null    int64  \n",
      " 2   Name         418 non-null    object \n",
      " 3   Sex          418 non-null    object \n",
      " 4   Age          418 non-null    int64  \n",
      " 5   SibSp        418 non-null    int64  \n",
      " 6   Parch        418 non-null    int64  \n",
      " 7   Ticket       418 non-null    object \n",
      " 8   Fare         418 non-null    float64\n",
      " 9   Cabin        91 non-null     object \n",
      " 10  Embarked     418 non-null    object \n",
      "dtypes: float64(1), int64(5), object(5)\n",
      "memory usage: 36.0+ KB\n"
     ]
    }
   ],
   "source": [
    "test_data.info()"
   ]
  },
  {
   "cell_type": "code",
   "execution_count": 8,
   "id": "fb5be8dc",
   "metadata": {},
   "outputs": [],
   "source": [
    "#Changing female and male to 0s and 1s\n",
    "train_data['Sex'] = train_data['Sex'].replace('female',1)\n",
    "train_data['Sex'] = train_data['Sex'].replace('male',0)\n",
    "test_data['Sex'] = test_data['Sex'].replace('female',1)\n",
    "test_data['Sex'] = test_data['Sex'].replace('male',0)"
   ]
  },
  {
   "cell_type": "code",
   "execution_count": 9,
   "id": "d7e4c170",
   "metadata": {},
   "outputs": [
    {
     "data": {
      "text/html": [
       "<div>\n",
       "<style scoped>\n",
       "    .dataframe tbody tr th:only-of-type {\n",
       "        vertical-align: middle;\n",
       "    }\n",
       "\n",
       "    .dataframe tbody tr th {\n",
       "        vertical-align: top;\n",
       "    }\n",
       "\n",
       "    .dataframe thead th {\n",
       "        text-align: right;\n",
       "    }\n",
       "</style>\n",
       "<table border=\"1\" class=\"dataframe\">\n",
       "  <thead>\n",
       "    <tr style=\"text-align: right;\">\n",
       "      <th></th>\n",
       "      <th>PassengerId</th>\n",
       "      <th>Survived</th>\n",
       "      <th>Pclass</th>\n",
       "      <th>Name</th>\n",
       "      <th>Sex</th>\n",
       "      <th>Age</th>\n",
       "      <th>SibSp</th>\n",
       "      <th>Parch</th>\n",
       "      <th>Ticket</th>\n",
       "      <th>Fare</th>\n",
       "      <th>Cabin</th>\n",
       "      <th>Embarked</th>\n",
       "    </tr>\n",
       "  </thead>\n",
       "  <tbody>\n",
       "    <tr>\n",
       "      <th>0</th>\n",
       "      <td>1</td>\n",
       "      <td>0</td>\n",
       "      <td>3</td>\n",
       "      <td>Braund, Mr. Owen Harris</td>\n",
       "      <td>0</td>\n",
       "      <td>22</td>\n",
       "      <td>1</td>\n",
       "      <td>0</td>\n",
       "      <td>A/5 21171</td>\n",
       "      <td>7.2500</td>\n",
       "      <td>NaN</td>\n",
       "      <td>S</td>\n",
       "    </tr>\n",
       "    <tr>\n",
       "      <th>1</th>\n",
       "      <td>2</td>\n",
       "      <td>1</td>\n",
       "      <td>1</td>\n",
       "      <td>Cumings, Mrs. John Bradley (Florence Briggs Th...</td>\n",
       "      <td>1</td>\n",
       "      <td>38</td>\n",
       "      <td>1</td>\n",
       "      <td>0</td>\n",
       "      <td>PC 17599</td>\n",
       "      <td>71.2833</td>\n",
       "      <td>C85</td>\n",
       "      <td>C</td>\n",
       "    </tr>\n",
       "    <tr>\n",
       "      <th>2</th>\n",
       "      <td>3</td>\n",
       "      <td>1</td>\n",
       "      <td>3</td>\n",
       "      <td>Heikkinen, Miss. Laina</td>\n",
       "      <td>1</td>\n",
       "      <td>26</td>\n",
       "      <td>0</td>\n",
       "      <td>0</td>\n",
       "      <td>STON/O2. 3101282</td>\n",
       "      <td>7.9250</td>\n",
       "      <td>NaN</td>\n",
       "      <td>S</td>\n",
       "    </tr>\n",
       "    <tr>\n",
       "      <th>3</th>\n",
       "      <td>4</td>\n",
       "      <td>1</td>\n",
       "      <td>1</td>\n",
       "      <td>Futrelle, Mrs. Jacques Heath (Lily May Peel)</td>\n",
       "      <td>1</td>\n",
       "      <td>35</td>\n",
       "      <td>1</td>\n",
       "      <td>0</td>\n",
       "      <td>113803</td>\n",
       "      <td>53.1000</td>\n",
       "      <td>C123</td>\n",
       "      <td>S</td>\n",
       "    </tr>\n",
       "    <tr>\n",
       "      <th>4</th>\n",
       "      <td>5</td>\n",
       "      <td>0</td>\n",
       "      <td>3</td>\n",
       "      <td>Allen, Mr. William Henry</td>\n",
       "      <td>0</td>\n",
       "      <td>35</td>\n",
       "      <td>0</td>\n",
       "      <td>0</td>\n",
       "      <td>373450</td>\n",
       "      <td>8.0500</td>\n",
       "      <td>NaN</td>\n",
       "      <td>S</td>\n",
       "    </tr>\n",
       "    <tr>\n",
       "      <th>...</th>\n",
       "      <td>...</td>\n",
       "      <td>...</td>\n",
       "      <td>...</td>\n",
       "      <td>...</td>\n",
       "      <td>...</td>\n",
       "      <td>...</td>\n",
       "      <td>...</td>\n",
       "      <td>...</td>\n",
       "      <td>...</td>\n",
       "      <td>...</td>\n",
       "      <td>...</td>\n",
       "      <td>...</td>\n",
       "    </tr>\n",
       "    <tr>\n",
       "      <th>886</th>\n",
       "      <td>887</td>\n",
       "      <td>0</td>\n",
       "      <td>2</td>\n",
       "      <td>Montvila, Rev. Juozas</td>\n",
       "      <td>0</td>\n",
       "      <td>27</td>\n",
       "      <td>0</td>\n",
       "      <td>0</td>\n",
       "      <td>211536</td>\n",
       "      <td>13.0000</td>\n",
       "      <td>NaN</td>\n",
       "      <td>S</td>\n",
       "    </tr>\n",
       "    <tr>\n",
       "      <th>887</th>\n",
       "      <td>888</td>\n",
       "      <td>1</td>\n",
       "      <td>1</td>\n",
       "      <td>Graham, Miss. Margaret Edith</td>\n",
       "      <td>1</td>\n",
       "      <td>19</td>\n",
       "      <td>0</td>\n",
       "      <td>0</td>\n",
       "      <td>112053</td>\n",
       "      <td>30.0000</td>\n",
       "      <td>B42</td>\n",
       "      <td>S</td>\n",
       "    </tr>\n",
       "    <tr>\n",
       "      <th>888</th>\n",
       "      <td>889</td>\n",
       "      <td>0</td>\n",
       "      <td>3</td>\n",
       "      <td>Johnston, Miss. Catherine Helen \"Carrie\"</td>\n",
       "      <td>1</td>\n",
       "      <td>28</td>\n",
       "      <td>1</td>\n",
       "      <td>2</td>\n",
       "      <td>W./C. 6607</td>\n",
       "      <td>23.4500</td>\n",
       "      <td>NaN</td>\n",
       "      <td>S</td>\n",
       "    </tr>\n",
       "    <tr>\n",
       "      <th>889</th>\n",
       "      <td>890</td>\n",
       "      <td>1</td>\n",
       "      <td>1</td>\n",
       "      <td>Behr, Mr. Karl Howell</td>\n",
       "      <td>0</td>\n",
       "      <td>26</td>\n",
       "      <td>0</td>\n",
       "      <td>0</td>\n",
       "      <td>111369</td>\n",
       "      <td>30.0000</td>\n",
       "      <td>C148</td>\n",
       "      <td>C</td>\n",
       "    </tr>\n",
       "    <tr>\n",
       "      <th>890</th>\n",
       "      <td>891</td>\n",
       "      <td>0</td>\n",
       "      <td>3</td>\n",
       "      <td>Dooley, Mr. Patrick</td>\n",
       "      <td>0</td>\n",
       "      <td>32</td>\n",
       "      <td>0</td>\n",
       "      <td>0</td>\n",
       "      <td>370376</td>\n",
       "      <td>7.7500</td>\n",
       "      <td>NaN</td>\n",
       "      <td>Q</td>\n",
       "    </tr>\n",
       "  </tbody>\n",
       "</table>\n",
       "<p>891 rows × 12 columns</p>\n",
       "</div>"
      ],
      "text/plain": [
       "     PassengerId  Survived  Pclass  \\\n",
       "0              1         0       3   \n",
       "1              2         1       1   \n",
       "2              3         1       3   \n",
       "3              4         1       1   \n",
       "4              5         0       3   \n",
       "..           ...       ...     ...   \n",
       "886          887         0       2   \n",
       "887          888         1       1   \n",
       "888          889         0       3   \n",
       "889          890         1       1   \n",
       "890          891         0       3   \n",
       "\n",
       "                                                  Name  Sex  Age  SibSp  \\\n",
       "0                              Braund, Mr. Owen Harris    0   22      1   \n",
       "1    Cumings, Mrs. John Bradley (Florence Briggs Th...    1   38      1   \n",
       "2                               Heikkinen, Miss. Laina    1   26      0   \n",
       "3         Futrelle, Mrs. Jacques Heath (Lily May Peel)    1   35      1   \n",
       "4                             Allen, Mr. William Henry    0   35      0   \n",
       "..                                                 ...  ...  ...    ...   \n",
       "886                              Montvila, Rev. Juozas    0   27      0   \n",
       "887                       Graham, Miss. Margaret Edith    1   19      0   \n",
       "888           Johnston, Miss. Catherine Helen \"Carrie\"    1   28      1   \n",
       "889                              Behr, Mr. Karl Howell    0   26      0   \n",
       "890                                Dooley, Mr. Patrick    0   32      0   \n",
       "\n",
       "     Parch            Ticket     Fare Cabin Embarked  \n",
       "0        0         A/5 21171   7.2500   NaN        S  \n",
       "1        0          PC 17599  71.2833   C85        C  \n",
       "2        0  STON/O2. 3101282   7.9250   NaN        S  \n",
       "3        0            113803  53.1000  C123        S  \n",
       "4        0            373450   8.0500   NaN        S  \n",
       "..     ...               ...      ...   ...      ...  \n",
       "886      0            211536  13.0000   NaN        S  \n",
       "887      0            112053  30.0000   B42        S  \n",
       "888      2        W./C. 6607  23.4500   NaN        S  \n",
       "889      0            111369  30.0000  C148        C  \n",
       "890      0            370376   7.7500   NaN        Q  \n",
       "\n",
       "[891 rows x 12 columns]"
      ]
     },
     "execution_count": 9,
     "metadata": {},
     "output_type": "execute_result"
    }
   ],
   "source": [
    "train_data"
   ]
  },
  {
   "cell_type": "markdown",
   "id": "7ef386f6",
   "metadata": {},
   "source": [
    "## Modeling the Data"
   ]
  },
  {
   "cell_type": "code",
   "execution_count": 10,
   "id": "a8e9c933",
   "metadata": {},
   "outputs": [],
   "source": [
    "#Creating y and X\n",
    "y = train_data.Survived\n",
    "features = ['Pclass', 'Sex','Age', 'Fare']\n",
    "X = train_data[features]\n",
    "\n",
    "#Creating the test \n",
    "test_X = test_data[features]\n",
    "\n",
    "#Split into validation and training data\n",
    "train_X, val_X, train_y, val_y = train_test_split(X, y, random_state=1)"
   ]
  },
  {
   "cell_type": "markdown",
   "id": "1ecacefd",
   "metadata": {},
   "source": [
    "## Testing RandomForestRegressor"
   ]
  },
  {
   "cell_type": "code",
   "execution_count": 11,
   "id": "a59f0bfa",
   "metadata": {},
   "outputs": [
    {
     "name": "stdout",
     "output_type": "stream",
     "text": [
      "0.3553830929205263\n"
     ]
    }
   ],
   "source": [
    "#Specify and fit model\n",
    "titanic_model = RandomForestRegressor(random_state = 1)\n",
    "titanic_model.fit(train_X, train_y)\n",
    "\n",
    "#Make validation predictions and calculate mean absolute error\n",
    "titanic_val_predictions = titanic_model.predict(val_X)\n",
    "titanic_val_mae = mean_absolute_error(titanic_val_predictions, val_y)\n",
    "\n",
    "#titanic_val_mae\n",
    "\n",
    "cv = cross_val_score(titanic_model, X, y, cv=5)\n",
    "print(cv.mean())\n",
    "\n",
    "# #Specify and fit model of test data\n",
    "# full_model = RandomForestRegressor(random_state = 1)\n",
    "# full_model = full_model.fit(X, y)\n",
    "\n",
    "# #Make final predictions and round it to the ones place\n",
    "# final_predictions = full_model.predict(test_X)\n",
    "# final_predictions = final_predictions.round(decimals = 0).astype(int)\n",
    "# final_predictions"
   ]
  },
  {
   "cell_type": "markdown",
   "id": "c2a2d5da",
   "metadata": {},
   "source": [
    "## Testing XGBoost"
   ]
  },
  {
   "cell_type": "code",
   "execution_count": 24,
   "id": "b536a0c2",
   "metadata": {},
   "outputs": [
    {
     "data": {
      "text/plain": [
       "False    1.0\n",
       "Name: Correct, dtype: float64"
      ]
     },
     "execution_count": 24,
     "metadata": {},
     "output_type": "execute_result"
    }
   ],
   "source": [
    "from xgboost import XGBRegressor\n",
    "\n",
    "#Specify and fit model of test data\n",
    "my_model = XGBRegressor(random_state = 1)\n",
    "my_model.fit(train_X, train_y)\n",
    "\n",
    "#Make validation predictions and calculate mean absolute error\n",
    "preds = my_model.predict(val_X)\n",
    "titanic_val_mae = mean_absolute_error(preds, val_y)\n",
    "\n",
    "#titanic_val_mae\n",
    "\n",
    "cv = cross_val_score(my_model, X, y, cv=5)\n",
    "#print(cv.mean())\n",
    "\n",
    "#Make final predictions and round it to the ones place\n",
    "final_predictions = my_model.predict(test_X)\n",
    "final_predictions = final_predictions.round(decimals = 0).astype(int)\n",
    "# final_predictions\n",
    "\n",
    "resultsXGB = pd.DataFrame({'Survived': val_y, 'Prediction': preds, 'Correct': val_y == preds})\n",
    "resultsXGB['Correct'].value_counts(normalize=True)"
   ]
  },
  {
   "cell_type": "markdown",
   "id": "06e2ce7b",
   "metadata": {},
   "source": [
    "## Trying Logistic Regression"
   ]
  },
  {
   "cell_type": "code",
   "execution_count": 22,
   "id": "8fbfe2dc",
   "metadata": {},
   "outputs": [
    {
     "data": {
      "text/plain": [
       "True     0.807175\n",
       "False    0.192825\n",
       "Name: Correct, dtype: float64"
      ]
     },
     "execution_count": 22,
     "metadata": {},
     "output_type": "execute_result"
    }
   ],
   "source": [
    "from sklearn.linear_model import LogisticRegression\n",
    "\n",
    "# Instantiate our model\n",
    "logreg = LogisticRegression(random_state = 1)\n",
    "\n",
    "# Fit our model to the training data\n",
    "logreg.fit(X, y)\n",
    "\n",
    "#Make validation predictions and calculate mean absolute error\n",
    "preds = logreg.predict(val_X)\n",
    "titanic_val_mae = mean_absolute_error(preds, val_y)\n",
    "#titanic_val_mae\n",
    "\n",
    "cv = cross_val_score(logreg, X, y, cv=5)\n",
    "#print(cv.mean())\n",
    "\n",
    "# Predict on the test data\n",
    "logreg_predictions = logreg.predict(test_X)\n",
    "#logreg_predictions\n",
    "\n",
    "resultsLG = pd.DataFrame({'Survived': val_y, 'Prediction': preds, 'Correct': val_y == preds})\n",
    "resultsLG['Correct'].value_counts(normalize=True)"
   ]
  },
  {
   "cell_type": "code",
   "execution_count": null,
   "id": "ba9e1692",
   "metadata": {},
   "outputs": [],
   "source": [
    "# output = pd.DataFrame({'PassengerId': test_data.PassengerId,\n",
    "#                      'Survived': logreg_predictions})\n",
    "# output.to_csv('titanic_submission9.csv', index=False) "
   ]
  },
  {
   "cell_type": "code",
   "execution_count": null,
   "id": "7ea6b58d",
   "metadata": {},
   "outputs": [],
   "source": []
  }
 ],
 "metadata": {
  "kernelspec": {
   "display_name": "Python 3",
   "language": "python",
   "name": "python3"
  },
  "language_info": {
   "codemirror_mode": {
    "name": "ipython",
    "version": 3
   },
   "file_extension": ".py",
   "mimetype": "text/x-python",
   "name": "python",
   "nbconvert_exporter": "python",
   "pygments_lexer": "ipython3",
   "version": "3.8.8"
  }
 },
 "nbformat": 4,
 "nbformat_minor": 5
}
