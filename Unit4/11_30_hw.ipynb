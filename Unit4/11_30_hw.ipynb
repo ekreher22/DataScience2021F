{
 "cells": [
  {
   "cell_type": "code",
   "execution_count": 1,
   "id": "e891b8f3",
   "metadata": {},
   "outputs": [],
   "source": [
    "from sklearn.linear_model import LinearRegression\n",
    "import pandas as pd"
   ]
  },
  {
   "cell_type": "code",
   "execution_count": 2,
   "id": "44c8c1b4",
   "metadata": {},
   "outputs": [
    {
     "data": {
      "text/html": [
       "<div>\n",
       "<style scoped>\n",
       "    .dataframe tbody tr th:only-of-type {\n",
       "        vertical-align: middle;\n",
       "    }\n",
       "\n",
       "    .dataframe tbody tr th {\n",
       "        vertical-align: top;\n",
       "    }\n",
       "\n",
       "    .dataframe thead th {\n",
       "        text-align: right;\n",
       "    }\n",
       "</style>\n",
       "<table border=\"1\" class=\"dataframe\">\n",
       "  <thead>\n",
       "    <tr style=\"text-align: right;\">\n",
       "      <th></th>\n",
       "      <th>Name</th>\n",
       "      <th>Height</th>\n",
       "      <th>GPA</th>\n",
       "      <th>Num of Friends</th>\n",
       "      <th>Sports</th>\n",
       "      <th>Shoes</th>\n",
       "    </tr>\n",
       "  </thead>\n",
       "  <tbody>\n",
       "    <tr>\n",
       "      <th>0</th>\n",
       "      <td>Emerson</td>\n",
       "      <td>65</td>\n",
       "      <td>3.06</td>\n",
       "      <td>213</td>\n",
       "      <td>Soccer</td>\n",
       "      <td>Sneakers</td>\n",
       "    </tr>\n",
       "    <tr>\n",
       "      <th>1</th>\n",
       "      <td>Jessie</td>\n",
       "      <td>61</td>\n",
       "      <td>2.41</td>\n",
       "      <td>202</td>\n",
       "      <td>Basketball</td>\n",
       "      <td>Flip Flops</td>\n",
       "    </tr>\n",
       "    <tr>\n",
       "      <th>2</th>\n",
       "      <td>Sawyer</td>\n",
       "      <td>67</td>\n",
       "      <td>2.96</td>\n",
       "      <td>314</td>\n",
       "      <td>Tennis</td>\n",
       "      <td>Flip Flops</td>\n",
       "    </tr>\n",
       "    <tr>\n",
       "      <th>3</th>\n",
       "      <td>London</td>\n",
       "      <td>64</td>\n",
       "      <td>3.98</td>\n",
       "      <td>436</td>\n",
       "      <td>Soccer</td>\n",
       "      <td>Sneakers</td>\n",
       "    </tr>\n",
       "    <tr>\n",
       "      <th>4</th>\n",
       "      <td>Dakota</td>\n",
       "      <td>72</td>\n",
       "      <td>3.15</td>\n",
       "      <td>307</td>\n",
       "      <td>Basketball</td>\n",
       "      <td>Sneakers</td>\n",
       "    </tr>\n",
       "    <tr>\n",
       "      <th>5</th>\n",
       "      <td>Hayden</td>\n",
       "      <td>68</td>\n",
       "      <td>3.50</td>\n",
       "      <td>335</td>\n",
       "      <td>Tennis</td>\n",
       "      <td>Flip Flops</td>\n",
       "    </tr>\n",
       "    <tr>\n",
       "      <th>6</th>\n",
       "      <td>Charlie</td>\n",
       "      <td>61</td>\n",
       "      <td>1.10</td>\n",
       "      <td>34</td>\n",
       "      <td>Baseball</td>\n",
       "      <td>Flip Flops</td>\n",
       "    </tr>\n",
       "    <tr>\n",
       "      <th>7</th>\n",
       "      <td>Kamryn</td>\n",
       "      <td>66</td>\n",
       "      <td>2.18</td>\n",
       "      <td>200</td>\n",
       "      <td>Soccer</td>\n",
       "      <td>Sneakers</td>\n",
       "    </tr>\n",
       "  </tbody>\n",
       "</table>\n",
       "</div>"
      ],
      "text/plain": [
       "      Name  Height   GPA  Num of Friends      Sports       Shoes\n",
       "0  Emerson      65  3.06             213      Soccer    Sneakers\n",
       "1   Jessie      61  2.41             202  Basketball  Flip Flops\n",
       "2   Sawyer      67  2.96             314      Tennis  Flip Flops\n",
       "3   London      64  3.98             436      Soccer    Sneakers\n",
       "4   Dakota      72  3.15             307  Basketball    Sneakers\n",
       "5   Hayden      68  3.50             335      Tennis  Flip Flops\n",
       "6  Charlie      61  1.10              34    Baseball  Flip Flops\n",
       "7   Kamryn      66  2.18             200      Soccer    Sneakers"
      ]
     },
     "execution_count": 2,
     "metadata": {},
     "output_type": "execute_result"
    }
   ],
   "source": [
    "people = pd.read_csv('people.csv')\n",
    "people"
   ]
  },
  {
   "cell_type": "code",
   "execution_count": null,
   "id": "f8ecf180",
   "metadata": {},
   "outputs": [
    {
     "data": {
      "text/plain": [
       "<AxesSubplot:xlabel='GPA'>"
      ]
     },
     "execution_count": 3,
     "metadata": {},
     "output_type": "execute_result"
    }
   ],
   "source": [
    "X = people['GPA'].values.reshape(-1, 1)\n",
    "y = people['Num of Friends'].values.reshape(-1, 1)\n",
    "people.plot(x='GPA', y='Num of Friends', style='o')"
   ]
  },
  {
   "cell_type": "code",
   "execution_count": null,
   "id": "a187f042",
   "metadata": {},
   "outputs": [],
   "source": []
  },
  {
   "cell_type": "code",
   "execution_count": null,
   "id": "33289f9a",
   "metadata": {},
   "outputs": [],
   "source": [
    "from sklearn.model_selection import train_test_split\n",
    "X_train, X_test, y_train, y_test = train_test_split(X, y, test_size=0.2, random_state=0)"
   ]
  },
  {
   "cell_type": "code",
   "execution_count": null,
   "id": "39521f94",
   "metadata": {},
   "outputs": [],
   "source": [
    "from sklearn.linear_model import LinearRegression\n",
    "regressor = LinearRegression()\n",
    "regressor.fit(X_train, y_train)"
   ]
  },
  {
   "cell_type": "code",
   "execution_count": null,
   "id": "76f27fdc",
   "metadata": {},
   "outputs": [],
   "source": [
    "print(regressor.intercept_)"
   ]
  },
  {
   "cell_type": "code",
   "execution_count": null,
   "id": "6836a18e",
   "metadata": {},
   "outputs": [],
   "source": [
    "print(regressor.coef_)"
   ]
  },
  {
   "cell_type": "code",
   "execution_count": null,
   "id": "6e41d654",
   "metadata": {},
   "outputs": [],
   "source": []
  }
 ],
 "metadata": {
  "kernelspec": {
   "display_name": "Python 3",
   "language": "python",
   "name": "python3"
  },
  "language_info": {
   "codemirror_mode": {
    "name": "ipython",
    "version": 3
   },
   "file_extension": ".py",
   "mimetype": "text/x-python",
   "name": "python",
   "nbconvert_exporter": "python",
   "pygments_lexer": "ipython3",
   "version": "3.8.8"
  }
 },
 "nbformat": 4,
 "nbformat_minor": 5
}
