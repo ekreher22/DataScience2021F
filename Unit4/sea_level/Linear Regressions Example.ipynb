{
 "cells": [
  {
   "cell_type": "code",
   "execution_count": 30,
   "id": "20b526ba",
   "metadata": {},
   "outputs": [],
   "source": [
    "import pandas as pd\n",
    "import seaborn as sb\n",
    "import matplotlib as plt\n",
    "from sklearn.metrics import r2_score\n",
    "import datetime as dt"
   ]
  },
  {
   "cell_type": "code",
   "execution_count": 31,
   "id": "08b7f71a",
   "metadata": {},
   "outputs": [
    {
     "data": {
      "text/html": [
       "<div>\n",
       "<style scoped>\n",
       "    .dataframe tbody tr th:only-of-type {\n",
       "        vertical-align: middle;\n",
       "    }\n",
       "\n",
       "    .dataframe tbody tr th {\n",
       "        vertical-align: top;\n",
       "    }\n",
       "\n",
       "    .dataframe thead th {\n",
       "        text-align: right;\n",
       "    }\n",
       "</style>\n",
       "<table border=\"1\" class=\"dataframe\">\n",
       "  <thead>\n",
       "    <tr style=\"text-align: right;\">\n",
       "      <th></th>\n",
       "      <th>Year</th>\n",
       "      <th>sea level</th>\n",
       "    </tr>\n",
       "  </thead>\n",
       "  <tbody>\n",
       "    <tr>\n",
       "      <th>0</th>\n",
       "      <td>1880</td>\n",
       "      <td>0.000000</td>\n",
       "    </tr>\n",
       "    <tr>\n",
       "      <th>1</th>\n",
       "      <td>1881</td>\n",
       "      <td>0.220472</td>\n",
       "    </tr>\n",
       "    <tr>\n",
       "      <th>2</th>\n",
       "      <td>1882</td>\n",
       "      <td>-0.440945</td>\n",
       "    </tr>\n",
       "    <tr>\n",
       "      <th>3</th>\n",
       "      <td>1883</td>\n",
       "      <td>-0.232283</td>\n",
       "    </tr>\n",
       "    <tr>\n",
       "      <th>4</th>\n",
       "      <td>1884</td>\n",
       "      <td>0.590551</td>\n",
       "    </tr>\n",
       "    <tr>\n",
       "      <th>...</th>\n",
       "      <td>...</td>\n",
       "      <td>...</td>\n",
       "    </tr>\n",
       "    <tr>\n",
       "      <th>129</th>\n",
       "      <td>2009</td>\n",
       "      <td>8.586614</td>\n",
       "    </tr>\n",
       "    <tr>\n",
       "      <th>130</th>\n",
       "      <td>2010</td>\n",
       "      <td>8.901575</td>\n",
       "    </tr>\n",
       "    <tr>\n",
       "      <th>131</th>\n",
       "      <td>2011</td>\n",
       "      <td>8.964567</td>\n",
       "    </tr>\n",
       "    <tr>\n",
       "      <th>132</th>\n",
       "      <td>2012</td>\n",
       "      <td>9.326772</td>\n",
       "    </tr>\n",
       "    <tr>\n",
       "      <th>133</th>\n",
       "      <td>2013</td>\n",
       "      <td>8.980315</td>\n",
       "    </tr>\n",
       "  </tbody>\n",
       "</table>\n",
       "<p>134 rows × 2 columns</p>\n",
       "</div>"
      ],
      "text/plain": [
       "     Year  sea level\n",
       "0    1880   0.000000\n",
       "1    1881   0.220472\n",
       "2    1882  -0.440945\n",
       "3    1883  -0.232283\n",
       "4    1884   0.590551\n",
       "..    ...        ...\n",
       "129  2009   8.586614\n",
       "130  2010   8.901575\n",
       "131  2011   8.964567\n",
       "132  2012   9.326772\n",
       "133  2013   8.980315\n",
       "\n",
       "[134 rows x 2 columns]"
      ]
     },
     "execution_count": 31,
     "metadata": {},
     "output_type": "execute_result"
    }
   ],
   "source": [
    "sea_level = pd.read_csv('epa-sea-level.csv', parse_dates = ['Year'])\n",
    "#drop columns \n",
    "sea_level.drop(['NOAA Adjusted Sea Level', 'Lower Error Bound', 'Upper Error Bound'], axis = 'columns', inplace = True)\n",
    "#rename columns\n",
    "sea_level.rename({'CSIRO Adjusted Sea Level': 'sea level'}, inplace = True, axis = 'columns')\n",
    "#change year column to just the year\n",
    "sea_level['Year'] = sea_level['Year'].dt.year\n",
    "#drop Nan\n",
    "sea_level.dropna(inplace = True)\n",
    "sea_level"
   ]
  },
  {
   "cell_type": "code",
   "execution_count": 32,
   "id": "3e754985",
   "metadata": {},
   "outputs": [
    {
     "data": {
      "text/plain": [
       "<AxesSubplot:xlabel='Year', ylabel='sea level'>"
      ]
     },
     "execution_count": 32,
     "metadata": {},
     "output_type": "execute_result"
    },
    {
     "data": {
      "image/png": "[encoded data removed]",
      "text/plain": [
       "<Figure size 432x288 with 1 Axes>"
      ]
     },
     "metadata": {
      "needs_background": "light"
     },
     "output_type": "display_data"
    }
   ],
   "source": [
    "sb.regplot(x = 'Year', y = 'sea level', data = sea_level)"
   ]
  },
  {
   "cell_type": "code",
   "execution_count": 36,
   "id": "3f615fee",
   "metadata": {},
   "outputs": [
    {
     "name": "stdout",
     "output_type": "stream",
     "text": [
      "slope: [[0.06304458]]\n",
      "intercept: [-119.06594197]\n",
      "coefficent of determination 0.9697466074149553\n"
     ]
    }
   ],
   "source": [
    "from sklearn.linear_model import LinearRegression\n",
    "\n",
    "X = sea_level['Year'].values.reshape(-1, 1)\n",
    "y = sea_level['sea level'].values.reshape(-1, 1)\n",
    "\n",
    "model = LinearRegression().fit(X,y)\n",
    "r_sq= model.score(X,y)\n",
    "\n",
    "print('slope:', model.coef_)\n",
    "print('intercept:', model.intercept_)\n",
    "print('coefficent of determination', r_sq)"
   ]
  },
  {
   "cell_type": "code",
   "execution_count": 38,
   "id": "1d84c81f",
   "metadata": {},
   "outputs": [
    {
     "data": {
      "text/plain": [
       "array([[10.17545526]])"
      ]
     },
     "execution_count": 38,
     "metadata": {},
     "output_type": "execute_result"
    }
   ],
   "source": [
    "pred = model.predict([[2050]])\n",
    "# 2050 is in double quotes because it requires a list of lists\n",
    "pred"
   ]
  },
  {
   "cell_type": "code",
   "execution_count": null,
   "id": "17393ae1",
   "metadata": {},
   "outputs": [],
   "source": []
  }
 ],
 "metadata": {
  "kernelspec": {
   "display_name": "Python 3",
   "language": "python",
   "name": "python3"
  },
  "language_info": {
   "codemirror_mode": {
    "name": "ipython",
    "version": 3
   },
   "file_extension": ".py",
   "mimetype": "text/x-python",
   "name": "python",
   "nbconvert_exporter": "python",
   "pygments_lexer": "ipython3",
   "version": "3.8.8"
  }
 },
 "nbformat": 4,
 "nbformat_minor": 5
}
