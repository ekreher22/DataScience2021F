{
 "cells": [
  {
   "cell_type": "code",
   "execution_count": 13,
   "id": "e612ae35",
   "metadata": {},
   "outputs": [
    {
     "data": {
      "text/plain": [
       "array([123851.08      , 154245.85      , 184885.84666667, ...,\n",
       "       164150.        , 118426.        , 239720.1       ])"
      ]
     },
     "execution_count": 13,
     "metadata": {},
     "output_type": "execute_result"
    }
   ],
   "source": [
    "import pandas as pd\n",
    "from sklearn.metrics import mean_absolute_error\n",
    "from sklearn.model_selection import train_test_split\n",
    "from sklearn.tree import DecisionTreeRegressor\n",
    "from sklearn.ensemble import RandomForestRegressor\n",
    "\n",
    "housing_data = pd.read_csv('train.csv')\n",
    "test_data = pd.read_csv('test.csv')\n",
    "\n",
    "y = housing_data.SalePrice\n",
    "features = ['LotArea', 'OverallQual', 'OverallCond', 'YearBuilt', 'Fireplaces', 'YearRemodAdd', 'GrLivArea', 'ScreenPorch']\n",
    "X = housing_data[features]\n",
    "test_X = test_data[features]\n",
    "\n",
    "train_X, val_X, train_y, val_y = train_test_split(X, y, random_state=1)\n",
    "\n",
    "housing_model = RandomForestRegressor()\n",
    "housing_model.fit(train_X, train_y)\n",
    "\n",
    "housing_val_mae = housing_model.predict(val_X)\n",
    "housing_val_predictions = housing_model.predict(val_X)\n",
    "housing_val_mae = mean_absolute_error(housing_val_predictions, val_y)\n",
    "\n",
    "#print(\"Validation MAE for Random Forest Model: {}\".format(housing_val_mae))\n",
    "\n",
    "full_model = RandomForestRegressor(random_state = 1)\n",
    "full_model = full_model.fit(X, y)\n",
    "\n",
    "final_predictions = full_model.predict(test_X)\n",
    "final_predictions\n"
   ]
  },
  {
   "cell_type": "code",
   "execution_count": null,
   "id": "70ccd6ba",
   "metadata": {},
   "outputs": [],
   "source": []
  },
  {
   "cell_type": "code",
   "execution_count": 15,
   "id": "12af8d7d",
   "metadata": {},
   "outputs": [],
   "source": [
    "output = pd.DataFrame({'Id': test_data.Id,\n",
    "                     'SalePrice': final_predictions})\n",
    "output.to_csv('submission2.csv', index=False)"
   ]
  },
  {
   "cell_type": "code",
   "execution_count": null,
   "id": "00aac85d",
   "metadata": {},
   "outputs": [],
   "source": []
  }
 ],
 "metadata": {
  "kernelspec": {
   "display_name": "Python 3",
   "language": "python",
   "name": "python3"
  },
  "language_info": {
   "codemirror_mode": {
    "name": "ipython",
    "version": 3
   },
   "file_extension": ".py",
   "mimetype": "text/x-python",
   "name": "python",
   "nbconvert_exporter": "python",
   "pygments_lexer": "ipython3",
   "version": "3.8.8"
  }
 },
 "nbformat": 4,
 "nbformat_minor": 5
}
