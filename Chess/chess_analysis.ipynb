{
 "cells": [
  {
   "cell_type": "markdown",
   "id": "e4f6e322",
   "metadata": {},
   "source": [
    "# Data Ingest\n",
    "Build a list of games"
   ]
  },
  {
   "cell_type": "code",
   "execution_count": 1,
   "id": "fe12b173",
   "metadata": {},
   "outputs": [],
   "source": [
    "import json\n",
    "import os\n",
    "import pandas"
   ]
  },
  {
   "cell_type": "code",
   "execution_count": 6,
   "id": "fe866577",
   "metadata": {},
   "outputs": [],
   "source": [
    "game_list = []\n",
    "game_dir = f'./game-data-cgorton1313/'\n",
    "\n",
    "for filename in os.listdir(game_dir):\n",
    "    with open(game_dir + filename) as f:\n",
    "        games_dict = json.load(f)\n",
    "        print(games_dict)"
   ]
  },
  {
   "cell_type": "code",
   "execution_count": null,
   "id": "76e82565",
   "metadata": {},
   "outputs": [],
   "source": []
  }
 ],
 "metadata": {
  "kernelspec": {
   "display_name": "Python 3",
   "language": "python",
   "name": "python3"
  },
  "language_info": {
   "codemirror_mode": {
    "name": "ipython",
    "version": 3
   },
   "file_extension": ".py",
   "mimetype": "text/x-python",
   "name": "python",
   "nbconvert_exporter": "python",
   "pygments_lexer": "ipython3",
   "version": "3.8.8"
  }
 },
 "nbformat": 4,
 "nbformat_minor": 5
}
