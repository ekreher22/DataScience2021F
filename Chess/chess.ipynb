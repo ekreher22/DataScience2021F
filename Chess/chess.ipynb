{
 "cells": [
  {
   "cell_type": "code",
   "execution_count": 51,
   "id": "66a957cb",
   "metadata": {},
   "outputs": [],
   "source": [
    "import requests\n",
    "import json\n",
    "from pathlib import Path\n",
    "import os"
   ]
  },
  {
   "cell_type": "code",
   "execution_count": 50,
   "id": "4785e7c7",
   "metadata": {},
   "outputs": [
    {
     "data": {
      "text/plain": [
       "{'archives': ['https://api.chess.com/pub/player/cgorton1313/games/2020/02',\n",
       "  'https://api.chess.com/pub/player/cgorton1313/games/2020/03',\n",
       "  'https://api.chess.com/pub/player/cgorton1313/games/2020/04',\n",
       "  'https://api.chess.com/pub/player/cgorton1313/games/2020/05',\n",
       "  'https://api.chess.com/pub/player/cgorton1313/games/2020/06',\n",
       "  'https://api.chess.com/pub/player/cgorton1313/games/2020/07',\n",
       "  'https://api.chess.com/pub/player/cgorton1313/games/2020/08',\n",
       "  'https://api.chess.com/pub/player/cgorton1313/games/2020/09',\n",
       "  'https://api.chess.com/pub/player/cgorton1313/games/2020/10',\n",
       "  'https://api.chess.com/pub/player/cgorton1313/games/2020/11',\n",
       "  'https://api.chess.com/pub/player/cgorton1313/games/2020/12',\n",
       "  'https://api.chess.com/pub/player/cgorton1313/games/2021/01',\n",
       "  'https://api.chess.com/pub/player/cgorton1313/games/2021/02',\n",
       "  'https://api.chess.com/pub/player/cgorton1313/games/2021/03',\n",
       "  'https://api.chess.com/pub/player/cgorton1313/games/2021/04',\n",
       "  'https://api.chess.com/pub/player/cgorton1313/games/2021/05',\n",
       "  'https://api.chess.com/pub/player/cgorton1313/games/2021/06',\n",
       "  'https://api.chess.com/pub/player/cgorton1313/games/2021/07',\n",
       "  'https://api.chess.com/pub/player/cgorton1313/games/2021/08',\n",
       "  'https://api.chess.com/pub/player/cgorton1313/games/2021/09',\n",
       "  'https://api.chess.com/pub/player/cgorton1313/games/2021/10',\n",
       "  'https://api.chess.com/pub/player/cgorton1313/games/2021/11',\n",
       "  'https://api.chess.com/pub/player/cgorton1313/games/2021/12',\n",
       "  'https://api.chess.com/pub/player/cgorton1313/games/2022/01']}"
      ]
     },
     "execution_count": 50,
     "metadata": {},
     "output_type": "execute_result"
    }
   ],
   "source": [
    "username = 'cgorton1313'\n",
    "result = requests.get('https://api.chess.com/pub/player/'+ username +'/games/archives').json()\n",
    "result"
   ]
  },
  {
   "cell_type": "markdown",
   "id": "0096309d",
   "metadata": {},
   "source": [
    "it is an array inside of a object"
   ]
  },
  {
   "cell_type": "code",
   "execution_count": 32,
   "id": "c1c58154",
   "metadata": {},
   "outputs": [
    {
     "data": {
      "text/plain": [
       "['https://api.chess.com/pub/player/cgorton1313/games/2020/02',\n",
       " 'https://api.chess.com/pub/player/cgorton1313/games/2020/03',\n",
       " 'https://api.chess.com/pub/player/cgorton1313/games/2020/04',\n",
       " 'https://api.chess.com/pub/player/cgorton1313/games/2020/05',\n",
       " 'https://api.chess.com/pub/player/cgorton1313/games/2020/06',\n",
       " 'https://api.chess.com/pub/player/cgorton1313/games/2020/07',\n",
       " 'https://api.chess.com/pub/player/cgorton1313/games/2020/08',\n",
       " 'https://api.chess.com/pub/player/cgorton1313/games/2020/09',\n",
       " 'https://api.chess.com/pub/player/cgorton1313/games/2020/10',\n",
       " 'https://api.chess.com/pub/player/cgorton1313/games/2020/11',\n",
       " 'https://api.chess.com/pub/player/cgorton1313/games/2020/12',\n",
       " 'https://api.chess.com/pub/player/cgorton1313/games/2021/01',\n",
       " 'https://api.chess.com/pub/player/cgorton1313/games/2021/02',\n",
       " 'https://api.chess.com/pub/player/cgorton1313/games/2021/03',\n",
       " 'https://api.chess.com/pub/player/cgorton1313/games/2021/04',\n",
       " 'https://api.chess.com/pub/player/cgorton1313/games/2021/05',\n",
       " 'https://api.chess.com/pub/player/cgorton1313/games/2021/06',\n",
       " 'https://api.chess.com/pub/player/cgorton1313/games/2021/07',\n",
       " 'https://api.chess.com/pub/player/cgorton1313/games/2021/08',\n",
       " 'https://api.chess.com/pub/player/cgorton1313/games/2021/09',\n",
       " 'https://api.chess.com/pub/player/cgorton1313/games/2021/10',\n",
       " 'https://api.chess.com/pub/player/cgorton1313/games/2021/11',\n",
       " 'https://api.chess.com/pub/player/cgorton1313/games/2021/12',\n",
       " 'https://api.chess.com/pub/player/cgorton1313/games/2022/01']"
      ]
     },
     "execution_count": 32,
     "metadata": {},
     "output_type": "execute_result"
    }
   ],
   "source": [
    "archives = result['archives']\n",
    "archives"
   ]
  },
  {
   "cell_type": "markdown",
   "id": "b8700865",
   "metadata": {},
   "source": [
    "### Creating a directory"
   ]
  },
  {
   "cell_type": "code",
   "execution_count": 52,
   "id": "4b97a98d",
   "metadata": {},
   "outputs": [],
   "source": [
    "game_dir = f'./game-data-{username}/'\n",
    "Path(game_dir).mkdir(parents=True, exist_ok=True)"
   ]
  },
  {
   "cell_type": "code",
   "execution_count": 53,
   "id": "ba2bb720",
   "metadata": {},
   "outputs": [],
   "source": [
    "num = 0\n",
    "for month in archives:\n",
    "    edited = requests.get(month).json()\n",
    "    #this gets the information inside of each month\n",
    "    with open(game_dir +'month'+ str(num),'w+', encoding = 'utf-8') as f:\n",
    "        json.dump(edited, f, ensure_ascii=False, indent=4)\n",
    "    #this creates a json file for each month\n",
    "    num = num + 1\n"
   ]
  },
  {
   "cell_type": "code",
   "execution_count": null,
   "id": "1c4956c9",
   "metadata": {},
   "outputs": [],
   "source": []
  }
 ],
 "metadata": {
  "kernelspec": {
   "display_name": "Python 3",
   "language": "python",
   "name": "python3"
  },
  "language_info": {
   "codemirror_mode": {
    "name": "ipython",
    "version": 3
   },
   "file_extension": ".py",
   "mimetype": "text/x-python",
   "name": "python",
   "nbconvert_exporter": "python",
   "pygments_lexer": "ipython3",
   "version": "3.8.8"
  }
 },
 "nbformat": 4,
 "nbformat_minor": 5
}
